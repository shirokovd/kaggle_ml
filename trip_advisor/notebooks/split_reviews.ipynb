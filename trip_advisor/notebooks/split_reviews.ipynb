{
 "cells": [
  {
   "cell_type": "code",
   "execution_count": 1,
   "id": "b2452314",
   "metadata": {},
   "outputs": [],
   "source": [
    "import os\n",
    "\n",
    "import pandas as pd\n",
    "from sklearn.model_selection import train_test_split"
   ]
  },
  {
   "cell_type": "markdown",
   "id": "5cc15765",
   "metadata": {},
   "source": [
    "# Source data"
   ]
  },
  {
   "cell_type": "code",
   "execution_count": 2,
   "id": "d6cae1f2",
   "metadata": {},
   "outputs": [],
   "source": [
    "review_file = '../data/init/tripadvisor_hotel_reviews_prep.csv'"
   ]
  },
  {
   "cell_type": "code",
   "execution_count": 4,
   "id": "e51060f9",
   "metadata": {},
   "outputs": [
    {
     "data": {
      "text/plain": [
       "(20491, 2)"
      ]
     },
     "execution_count": 4,
     "metadata": {},
     "output_type": "execute_result"
    }
   ],
   "source": [
    "review_df = pd.read_csv(review_file, sep=',')\n",
    "review_df.shape"
   ]
  },
  {
   "cell_type": "code",
   "execution_count": 5,
   "id": "8b06cc66",
   "metadata": {},
   "outputs": [
    {
     "data": {
      "text/html": [
       "<div>\n",
       "<style scoped>\n",
       "    .dataframe tbody tr th:only-of-type {\n",
       "        vertical-align: middle;\n",
       "    }\n",
       "\n",
       "    .dataframe tbody tr th {\n",
       "        vertical-align: top;\n",
       "    }\n",
       "\n",
       "    .dataframe thead th {\n",
       "        text-align: right;\n",
       "    }\n",
       "</style>\n",
       "<table border=\"1\" class=\"dataframe\">\n",
       "  <thead>\n",
       "    <tr style=\"text-align: right;\">\n",
       "      <th></th>\n",
       "      <th>Review</th>\n",
       "      <th>Rating</th>\n",
       "    </tr>\n",
       "  </thead>\n",
       "  <tbody>\n",
       "    <tr>\n",
       "      <th>0</th>\n",
       "      <td>nice hotel expensive parking get good deal sta...</td>\n",
       "      <td>4</td>\n",
       "    </tr>\n",
       "    <tr>\n",
       "      <th>1</th>\n",
       "      <td>ok nothing special charge diamond member hilto...</td>\n",
       "      <td>2</td>\n",
       "    </tr>\n",
       "    <tr>\n",
       "      <th>2</th>\n",
       "      <td>nice room 4 experience hotel monaco seattle go...</td>\n",
       "      <td>3</td>\n",
       "    </tr>\n",
       "    <tr>\n",
       "      <th>3</th>\n",
       "      <td>unique great stay wonderful time hotel monaco ...</td>\n",
       "      <td>5</td>\n",
       "    </tr>\n",
       "    <tr>\n",
       "      <th>4</th>\n",
       "      <td>great stay great stay go seahawk game awesome ...</td>\n",
       "      <td>5</td>\n",
       "    </tr>\n",
       "  </tbody>\n",
       "</table>\n",
       "</div>"
      ],
      "text/plain": [
       "                                              Review  Rating\n",
       "0  nice hotel expensive parking get good deal sta...       4\n",
       "1  ok nothing special charge diamond member hilto...       2\n",
       "2  nice room 4 experience hotel monaco seattle go...       3\n",
       "3  unique great stay wonderful time hotel monaco ...       5\n",
       "4  great stay great stay go seahawk game awesome ...       5"
      ]
     },
     "execution_count": 5,
     "metadata": {},
     "output_type": "execute_result"
    }
   ],
   "source": [
    "review_df.head()"
   ]
  },
  {
   "cell_type": "code",
   "execution_count": 6,
   "id": "c249964c",
   "metadata": {},
   "outputs": [
    {
     "name": "stdout",
     "output_type": "stream",
     "text": [
      "<class 'pandas.core.frame.DataFrame'>\n",
      "RangeIndex: 20491 entries, 0 to 20490\n",
      "Data columns (total 2 columns):\n",
      " #   Column  Non-Null Count  Dtype \n",
      "---  ------  --------------  ----- \n",
      " 0   Review  20491 non-null  object\n",
      " 1   Rating  20491 non-null  int64 \n",
      "dtypes: int64(1), object(1)\n",
      "memory usage: 320.3+ KB\n"
     ]
    }
   ],
   "source": [
    "review_df.info()"
   ]
  },
  {
   "cell_type": "code",
   "execution_count": 7,
   "id": "d7e13d54",
   "metadata": {},
   "outputs": [],
   "source": [
    "review_df['Rating'] = review_df['Rating'] - 1"
   ]
  },
  {
   "cell_type": "code",
   "execution_count": 8,
   "id": "27ba8364",
   "metadata": {},
   "outputs": [
    {
     "data": {
      "text/plain": [
       "<AxesSubplot:>"
      ]
     },
     "execution_count": 8,
     "metadata": {},
     "output_type": "execute_result"
    },
    {
     "data": {
      "image/png": "[encoded data removed]",
      "text/plain": [
       "<Figure size 432x288 with 1 Axes>"
      ]
     },
     "metadata": {
      "needs_background": "light"
     },
     "output_type": "display_data"
    }
   ],
   "source": [
    "review_df['Rating'].value_counts().sort_values().plot.bar()"
   ]
  },
  {
   "cell_type": "markdown",
   "id": "9d3c5a78",
   "metadata": {},
   "source": [
    "# Data split"
   ]
  },
  {
   "cell_type": "code",
   "execution_count": 23,
   "id": "2a110653",
   "metadata": {},
   "outputs": [
    {
     "data": {
      "text/plain": [
       "((17417, 2), (3074, 2))"
      ]
     },
     "execution_count": 23,
     "metadata": {},
     "output_type": "execute_result"
    }
   ],
   "source": [
    "train_review_df, test_review_df = train_test_split(review_df, train_size=0.85, stratify=review_df['Rating'].values)\n",
    "train_review_df.shape, test_review_df.shape"
   ]
  },
  {
   "cell_type": "code",
   "execution_count": 26,
   "id": "958e2a77",
   "metadata": {},
   "outputs": [
    {
     "data": {
      "text/plain": [
       "((14804, 2), (2613, 2))"
      ]
     },
     "execution_count": 26,
     "metadata": {},
     "output_type": "execute_result"
    }
   ],
   "source": [
    "train_review_df, val_review_df = train_test_split(train_review_df, train_size=0.85, stratify=train_review_df['Rating'].values)\n",
    "train_review_df.shape, val_review_df.shape"
   ]
  },
  {
   "cell_type": "code",
   "execution_count": 27,
   "id": "7eaa5f39",
   "metadata": {},
   "outputs": [
    {
     "data": {
      "text/plain": [
       "<AxesSubplot:>"
      ]
     },
     "execution_count": 27,
     "metadata": {},
     "output_type": "execute_result"
    },
    {
     "data": {
      "image/png": "[encoded data removed]",
      "text/plain": [
       "<Figure size 432x288 with 1 Axes>"
      ]
     },
     "metadata": {
      "needs_background": "light"
     },
     "output_type": "display_data"
    }
   ],
   "source": [
    "train_review_df['Rating'].value_counts().sort_values().plot.bar()"
   ]
  },
  {
   "cell_type": "code",
   "execution_count": 28,
   "id": "eec9e4eb",
   "metadata": {},
   "outputs": [
    {
     "data": {
      "text/plain": [
       "<AxesSubplot:>"
      ]
     },
     "execution_count": 28,
     "metadata": {},
     "output_type": "execute_result"
    },
    {
     "data": {
      "image/png": "[encoded data removed]",
      "text/plain": [
       "<Figure size 432x288 with 1 Axes>"
      ]
     },
     "metadata": {
      "needs_background": "light"
     },
     "output_type": "display_data"
    }
   ],
   "source": [
    "val_review_df['Rating'].value_counts().sort_values().plot.bar()"
   ]
  },
  {
   "cell_type": "code",
   "execution_count": 29,
   "id": "081525c3",
   "metadata": {},
   "outputs": [
    {
     "data": {
      "text/plain": [
       "<AxesSubplot:>"
      ]
     },
     "execution_count": 29,
     "metadata": {},
     "output_type": "execute_result"
    },
    {
     "data": {
      "image/png": "[encoded data removed]",
      "text/plain": [
       "<Figure size 432x288 with 1 Axes>"
      ]
     },
     "metadata": {
      "needs_background": "light"
     },
     "output_type": "display_data"
    }
   ],
   "source": [
    "test_review_df['Rating'].value_counts().sort_values().plot.bar()"
   ]
  },
  {
   "cell_type": "markdown",
   "id": "5fc7c9ec",
   "metadata": {},
   "source": [
    "# Data save"
   ]
  },
  {
   "cell_type": "code",
   "execution_count": 30,
   "id": "7e9f792e",
   "metadata": {},
   "outputs": [],
   "source": [
    "save_catalog = '../data/src/'\n",
    "os.makedirs(save_catalog, exist_ok=True)"
   ]
  },
  {
   "cell_type": "code",
   "execution_count": 31,
   "id": "ea4aa1dd",
   "metadata": {},
   "outputs": [],
   "source": [
    "train_review_file = os.path.join(save_catalog, 'train.csv')\n",
    "train_review_df.to_csv(train_review_file, sep=',', index=False)"
   ]
  },
  {
   "cell_type": "code",
   "execution_count": 32,
   "id": "72e530f5",
   "metadata": {},
   "outputs": [],
   "source": [
    "val_review_file = os.path.join(save_catalog, 'val.csv')\n",
    "val_review_df.to_csv(val_review_file, sep=',', index=False)"
   ]
  },
  {
   "cell_type": "code",
   "execution_count": 34,
   "id": "ae30c77b",
   "metadata": {},
   "outputs": [],
   "source": [
    "test_review_file = os.path.join(save_catalog, 'test.csv')\n",
    "test_review_df.to_csv(test_review_file, sep=',', index=False)"
   ]
  }
 ],
 "metadata": {
  "kernelspec": {
   "display_name": "Python 3 (ipykernel)",
   "language": "python",
   "name": "python3"
  },
  "language_info": {
   "codemirror_mode": {
    "name": "ipython",
    "version": 3
   },
   "file_extension": ".py",
   "mimetype": "text/x-python",
   "name": "python",
   "nbconvert_exporter": "python",
   "pygments_lexer": "ipython3",
   "version": "3.9.12"
  }
 },
 "nbformat": 4,
 "nbformat_minor": 5
}
