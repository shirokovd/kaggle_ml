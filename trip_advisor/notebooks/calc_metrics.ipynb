{
 "cells": [
  {
   "cell_type": "code",
   "execution_count": 1,
   "id": "43dc7cc3",
   "metadata": {},
   "outputs": [],
   "source": [
    "import os\n",
    "\n",
    "import numpy as np\n",
    "import pandas as pd\n",
    "from matplotlib import pyplot as plt\n",
    "from sklearn.metrics import precision_score, recall_score, f1_score, accuracy_score, RocCurveDisplay, \\\n",
    "    confusion_matrix, ConfusionMatrixDisplay, classification_report"
   ]
  },
  {
   "cell_type": "code",
   "execution_count": 2,
   "id": "bfd1eed5",
   "metadata": {},
   "outputs": [],
   "source": [
    "import warnings\n",
    "warnings.filterwarnings(\"ignore\")"
   ]
  },
  {
   "cell_type": "markdown",
   "id": "5cc15765",
   "metadata": {},
   "source": [
    "# Source data"
   ]
  },
  {
   "cell_type": "code",
   "execution_count": 21,
   "id": "d6cae1f2",
   "metadata": {},
   "outputs": [],
   "source": [
    "# review_file = '../data/res/prediction/train_epoch=4.csv'\n",
    "# review_file = '../data/res/prediction/val_epoch=4.csv'\n",
    "review_file = '../data/res/prediction/test.csv'"
   ]
  },
  {
   "cell_type": "code",
   "execution_count": 22,
   "id": "e51060f9",
   "metadata": {
    "scrolled": true
   },
   "outputs": [
    {
     "data": {
      "text/plain": [
       "(3074, 3)"
      ]
     },
     "execution_count": 22,
     "metadata": {},
     "output_type": "execute_result"
    }
   ],
   "source": [
    "review_df = pd.read_csv(review_file, sep=',')\n",
    "review_df.shape"
   ]
  },
  {
   "cell_type": "code",
   "execution_count": 23,
   "id": "8b06cc66",
   "metadata": {},
   "outputs": [
    {
     "data": {
      "text/html": [
       "<div>\n",
       "<style scoped>\n",
       "    .dataframe tbody tr th:only-of-type {\n",
       "        vertical-align: middle;\n",
       "    }\n",
       "\n",
       "    .dataframe tbody tr th {\n",
       "        vertical-align: top;\n",
       "    }\n",
       "\n",
       "    .dataframe thead th {\n",
       "        text-align: right;\n",
       "    }\n",
       "</style>\n",
       "<table border=\"1\" class=\"dataframe\">\n",
       "  <thead>\n",
       "    <tr style=\"text-align: right;\">\n",
       "      <th></th>\n",
       "      <th>Review</th>\n",
       "      <th>Rating</th>\n",
       "      <th>prediction</th>\n",
       "    </tr>\n",
       "  </thead>\n",
       "  <tbody>\n",
       "    <tr>\n",
       "      <th>0</th>\n",
       "      <td>great place stay stay inn bourbon new orleans ...</td>\n",
       "      <td>4</td>\n",
       "      <td>4</td>\n",
       "    </tr>\n",
       "    <tr>\n",
       "      <th>1</th>\n",
       "      <td>excellent place stay nice hotel stay room big ...</td>\n",
       "      <td>4</td>\n",
       "      <td>4</td>\n",
       "    </tr>\n",
       "    <tr>\n",
       "      <th>2</th>\n",
       "      <td>great location service stay kid december 1920 ...</td>\n",
       "      <td>4</td>\n",
       "      <td>4</td>\n",
       "    </tr>\n",
       "    <tr>\n",
       "      <th>3</th>\n",
       "      <td>amaze amsterdam stayed hotel 14th 19th februar...</td>\n",
       "      <td>4</td>\n",
       "      <td>4</td>\n",
       "    </tr>\n",
       "    <tr>\n",
       "      <th>4</th>\n",
       "      <td>brief enjoyable add thumb regard hotel alessan...</td>\n",
       "      <td>3</td>\n",
       "      <td>4</td>\n",
       "    </tr>\n",
       "  </tbody>\n",
       "</table>\n",
       "</div>"
      ],
      "text/plain": [
       "                                              Review  Rating  prediction\n",
       "0  great place stay stay inn bourbon new orleans ...       4           4\n",
       "1  excellent place stay nice hotel stay room big ...       4           4\n",
       "2  great location service stay kid december 1920 ...       4           4\n",
       "3  amaze amsterdam stayed hotel 14th 19th februar...       4           4\n",
       "4  brief enjoyable add thumb regard hotel alessan...       3           4"
      ]
     },
     "execution_count": 23,
     "metadata": {},
     "output_type": "execute_result"
    }
   ],
   "source": [
    "review_df.head()"
   ]
  },
  {
   "cell_type": "code",
   "execution_count": 24,
   "id": "c249964c",
   "metadata": {},
   "outputs": [
    {
     "name": "stdout",
     "output_type": "stream",
     "text": [
      "<class 'pandas.core.frame.DataFrame'>\n",
      "RangeIndex: 3074 entries, 0 to 3073\n",
      "Data columns (total 3 columns):\n",
      " #   Column      Non-Null Count  Dtype \n",
      "---  ------      --------------  ----- \n",
      " 0   Review      3074 non-null   object\n",
      " 1   Rating      3074 non-null   int64 \n",
      " 2   prediction  3074 non-null   int64 \n",
      "dtypes: int64(2), object(1)\n",
      "memory usage: 72.2+ KB\n"
     ]
    }
   ],
   "source": [
    "review_df.info()"
   ]
  },
  {
   "cell_type": "code",
   "execution_count": 61,
   "id": "51b17d2e",
   "metadata": {
    "scrolled": true
   },
   "outputs": [
    {
     "data": {
      "text/plain": [
       "<AxesSubplot:xlabel='label'>"
      ]
     },
     "execution_count": 61,
     "metadata": {},
     "output_type": "execute_result"
    },
    {
     "data": {
      "image/png": "[encoded data removed]",
      "text/plain": [
       "<Figure size 432x288 with 1 Axes>"
      ]
     },
     "metadata": {
      "needs_background": "light"
     },
     "output_type": "display_data"
    }
   ],
   "source": [
    "counts_df = review_df['Rating'].value_counts().sort_values().to_frame().reset_index()\n",
    "pred_counts_df = review_df['prediction'].value_counts().sort_values().to_frame().reset_index()\n",
    "counts_df = pd.merge(counts_df, pred_counts_df, how='left', on=['index'])\n",
    "counts_df.rename(columns={'index': 'label'}, inplace=True)\n",
    "counts_df.plot.bar(x='label', y=['Rating', 'prediction'])"
   ]
  },
  {
   "cell_type": "code",
   "execution_count": 27,
   "id": "5bc5f0d6",
   "metadata": {},
   "outputs": [],
   "source": [
    "labels = [0, 1, 2, 3, 4]"
   ]
  },
  {
   "cell_type": "markdown",
   "id": "1db0390f",
   "metadata": {},
   "source": [
    "# Multilabel metrics"
   ]
  },
  {
   "cell_type": "code",
   "execution_count": 28,
   "id": "4bd292a7",
   "metadata": {},
   "outputs": [],
   "source": [
    "def multilabel_metrics(y_true, y_pred, labels):\n",
    "    metrics_df = list()\n",
    "    for l in labels:\n",
    "        inds_true = np.where(y_true == l)\n",
    "        # for accuracy\n",
    "        y_true_l = y_true[inds_true]\n",
    "        y_pred_l = y_pred[inds_true]\n",
    "        # for precision, recall, f1\n",
    "        y_true_bin_l = y_true == l\n",
    "        y_pred_bin_l = y_pred == l\n",
    "        # label metrics\n",
    "        pr_l = precision_score(y_true_bin_l, y_pred_bin_l, average='binary')\n",
    "        rec_l = recall_score(y_true_bin_l, y_pred_bin_l, average='binary')\n",
    "        f1_l = f1_score(y_true_bin_l, y_pred_bin_l, average='binary')   \n",
    "        acc_l = accuracy_score(y_true_l, y_pred_l)     \n",
    "        metrics_df.append(\n",
    "            pd.Series(\n",
    "                data={\n",
    "                    'label': l,\n",
    "                    'precision': pr_l,\n",
    "                    'recall': rec_l,\n",
    "                    'f1': f1_l,\n",
    "                    'accuracy': acc_l\n",
    "                }\n",
    "            )\n",
    "        )           \n",
    "    metrics_df = pd.concat(metrics_df, axis=1, ignore_index=True).transpose()\n",
    "    metrics_df['label'] = metrics_df['label'].astype(np.int)\n",
    "    metrics_df.sort_values(by='label', ascending=True, inplace=True)\n",
    "    return metrics_df"
   ]
  },
  {
   "cell_type": "code",
   "execution_count": 29,
   "id": "b36a1acb",
   "metadata": {
    "scrolled": true
   },
   "outputs": [
    {
     "data": {
      "text/plain": [
       "(5, 5)"
      ]
     },
     "execution_count": 29,
     "metadata": {},
     "output_type": "execute_result"
    }
   ],
   "source": [
    "multilabel_metrics_df = multilabel_metrics(review_df['Rating'].values, review_df['prediction'].values, labels=labels)\n",
    "multilabel_metrics_df.shape"
   ]
  },
  {
   "cell_type": "code",
   "execution_count": 30,
   "id": "d9f44fc0",
   "metadata": {},
   "outputs": [
    {
     "data": {
      "text/html": [
       "<div>\n",
       "<style scoped>\n",
       "    .dataframe tbody tr th:only-of-type {\n",
       "        vertical-align: middle;\n",
       "    }\n",
       "\n",
       "    .dataframe tbody tr th {\n",
       "        vertical-align: top;\n",
       "    }\n",
       "\n",
       "    .dataframe thead th {\n",
       "        text-align: right;\n",
       "    }\n",
       "</style>\n",
       "<table border=\"1\" class=\"dataframe\">\n",
       "  <thead>\n",
       "    <tr style=\"text-align: right;\">\n",
       "      <th></th>\n",
       "      <th>label</th>\n",
       "      <th>precision</th>\n",
       "      <th>recall</th>\n",
       "      <th>f1</th>\n",
       "      <th>accuracy</th>\n",
       "    </tr>\n",
       "  </thead>\n",
       "  <tbody>\n",
       "    <tr>\n",
       "      <th>0</th>\n",
       "      <td>0</td>\n",
       "      <td>0.673640</td>\n",
       "      <td>0.755869</td>\n",
       "      <td>0.712389</td>\n",
       "      <td>0.755869</td>\n",
       "    </tr>\n",
       "    <tr>\n",
       "      <th>1</th>\n",
       "      <td>1</td>\n",
       "      <td>0.456835</td>\n",
       "      <td>0.472119</td>\n",
       "      <td>0.464351</td>\n",
       "      <td>0.472119</td>\n",
       "    </tr>\n",
       "    <tr>\n",
       "      <th>2</th>\n",
       "      <td>2</td>\n",
       "      <td>0.458967</td>\n",
       "      <td>0.460366</td>\n",
       "      <td>0.459665</td>\n",
       "      <td>0.460366</td>\n",
       "    </tr>\n",
       "    <tr>\n",
       "      <th>3</th>\n",
       "      <td>3</td>\n",
       "      <td>0.569905</td>\n",
       "      <td>0.530905</td>\n",
       "      <td>0.549714</td>\n",
       "      <td>0.530905</td>\n",
       "    </tr>\n",
       "    <tr>\n",
       "      <th>4</th>\n",
       "      <td>4</td>\n",
       "      <td>0.781792</td>\n",
       "      <td>0.796760</td>\n",
       "      <td>0.789205</td>\n",
       "      <td>0.796760</td>\n",
       "    </tr>\n",
       "  </tbody>\n",
       "</table>\n",
       "</div>"
      ],
      "text/plain": [
       "   label  precision    recall        f1  accuracy\n",
       "0      0   0.673640  0.755869  0.712389  0.755869\n",
       "1      1   0.456835  0.472119  0.464351  0.472119\n",
       "2      2   0.458967  0.460366  0.459665  0.460366\n",
       "3      3   0.569905  0.530905  0.549714  0.530905\n",
       "4      4   0.781792  0.796760  0.789205  0.796760"
      ]
     },
     "execution_count": 30,
     "metadata": {},
     "output_type": "execute_result"
    }
   ],
   "source": [
    "multilabel_metrics_df.head()"
   ]
  },
  {
   "cell_type": "code",
   "execution_count": 31,
   "id": "2f98c06f",
   "metadata": {},
   "outputs": [],
   "source": [
    "def plot_multilabel_metrics(metrics_df):\n",
    "    for col in metrics_df.columns[1:]:\n",
    "        metrics_df.plot.bar(x='label', y=col)        "
   ]
  },
  {
   "cell_type": "code",
   "execution_count": 32,
   "id": "85983a42",
   "metadata": {
    "scrolled": true
   },
   "outputs": [
    {
     "data": {
      "image/png": "[encoded data removed]",
      "text/plain": [
       "<Figure size 432x288 with 1 Axes>"
      ]
     },
     "metadata": {
      "needs_background": "light"
     },
     "output_type": "display_data"
    },
    {
     "data": {
      "image/png": "[encoded data removed]",
      "text/plain": [
       "<Figure size 432x288 with 1 Axes>"
      ]
     },
     "metadata": {
      "needs_background": "light"
     },
     "output_type": "display_data"
    },
    {
     "data": {
      "image/png": "[encoded data removed]",
      "text/plain": [
       "<Figure size 432x288 with 1 Axes>"
      ]
     },
     "metadata": {
      "needs_background": "light"
     },
     "output_type": "display_data"
    },
    {
     "data": {
      "image/png": "[encoded data removed]",
      "text/plain": [
       "<Figure size 432x288 with 1 Axes>"
      ]
     },
     "metadata": {
      "needs_background": "light"
     },
     "output_type": "display_data"
    }
   ],
   "source": [
    "plot_multilabel_metrics(multilabel_metrics_df)"
   ]
  },
  {
   "cell_type": "markdown",
   "id": "98086208",
   "metadata": {},
   "source": [
    "# ROC AUC"
   ]
  },
  {
   "cell_type": "code",
   "execution_count": 33,
   "id": "d38485bb",
   "metadata": {},
   "outputs": [],
   "source": [
    "def plot_one_vs_rest_roc(y_true, y_pred, labels):\n",
    "    fig, ax = plt.subplots(figsize=(7, 7))\n",
    "    for l in labels:\n",
    "        y_true_bin_l = y_true == l\n",
    "        y_pred_bin_l = y_pred == l\n",
    "        RocCurveDisplay.from_predictions(\n",
    "            y_true_bin_l,\n",
    "            y_pred_bin_l,\n",
    "            name=\"ROC curve for label {}\".format(l),\n",
    "            ax=ax\n",
    "        )\n",
    "    plt.axis(\"square\")\n",
    "    plt.xlabel(\"False Positive Rate\")\n",
    "    plt.ylabel(\"True Positive Rate\")\n",
    "    plt.title(\"Extension of Receiver Operating Characteristic\\nto One-vs-Rest multilabel\")\n",
    "    plt.legend()\n",
    "    plt.show()"
   ]
  },
  {
   "cell_type": "code",
   "execution_count": 34,
   "id": "9a0664a1",
   "metadata": {},
   "outputs": [
    {
     "data": {
      "image/png": "[encoded data removed]",
      "text/plain": [
       "<Figure size 504x504 with 1 Axes>"
      ]
     },
     "metadata": {
      "needs_background": "light"
     },
     "output_type": "display_data"
    }
   ],
   "source": [
    "plot_one_vs_rest_roc(review_df['Rating'].values, review_df['prediction'].values, labels=labels)"
   ]
  },
  {
   "cell_type": "markdown",
   "id": "e1d77512",
   "metadata": {},
   "source": [
    "# Confusion matrix"
   ]
  },
  {
   "cell_type": "code",
   "execution_count": 35,
   "id": "954dfa62",
   "metadata": {},
   "outputs": [],
   "source": [
    "def plot_confusion_matrix(y_true, y_pred, labels):\n",
    "    conf_matrix = confusion_matrix(y_true, y_pred, labels=labels)\n",
    "    conf_matrix_display = ConfusionMatrixDisplay(\n",
    "        conf_matrix,\n",
    "        display_labels=np.sort(labels)\n",
    "    )\n",
    "    conf_matrix_display.plot()"
   ]
  },
  {
   "cell_type": "code",
   "execution_count": 36,
   "id": "d7f8b40a",
   "metadata": {},
   "outputs": [
    {
     "data": {
      "image/png": "[encoded data removed]",
      "text/plain": [
       "<Figure size 432x288 with 2 Axes>"
      ]
     },
     "metadata": {
      "needs_background": "light"
     },
     "output_type": "display_data"
    }
   ],
   "source": [
    "plot_confusion_matrix(review_df['Rating'].values, review_df['prediction'].values, labels=labels)"
   ]
  },
  {
   "cell_type": "markdown",
   "id": "0a534873",
   "metadata": {},
   "source": [
    "# Classification report"
   ]
  },
  {
   "cell_type": "code",
   "execution_count": 37,
   "id": "5f3871f9",
   "metadata": {},
   "outputs": [],
   "source": [
    "def get_classification_report(y_true, y_pred):\n",
    "    report = classification_report(y_true, y_pred, output_dict=True)\n",
    "    report_df = pd.DataFrame(report).transpose()\n",
    "    return report_df"
   ]
  },
  {
   "cell_type": "code",
   "execution_count": 38,
   "id": "a8487245",
   "metadata": {},
   "outputs": [
    {
     "data": {
      "text/html": [
       "<div>\n",
       "<style scoped>\n",
       "    .dataframe tbody tr th:only-of-type {\n",
       "        vertical-align: middle;\n",
       "    }\n",
       "\n",
       "    .dataframe tbody tr th {\n",
       "        vertical-align: top;\n",
       "    }\n",
       "\n",
       "    .dataframe thead th {\n",
       "        text-align: right;\n",
       "    }\n",
       "</style>\n",
       "<table border=\"1\" class=\"dataframe\">\n",
       "  <thead>\n",
       "    <tr style=\"text-align: right;\">\n",
       "      <th></th>\n",
       "      <th>precision</th>\n",
       "      <th>recall</th>\n",
       "      <th>f1-score</th>\n",
       "      <th>support</th>\n",
       "    </tr>\n",
       "  </thead>\n",
       "  <tbody>\n",
       "    <tr>\n",
       "      <th>0</th>\n",
       "      <td>0.673640</td>\n",
       "      <td>0.755869</td>\n",
       "      <td>0.712389</td>\n",
       "      <td>213.000000</td>\n",
       "    </tr>\n",
       "    <tr>\n",
       "      <th>1</th>\n",
       "      <td>0.456835</td>\n",
       "      <td>0.472119</td>\n",
       "      <td>0.464351</td>\n",
       "      <td>269.000000</td>\n",
       "    </tr>\n",
       "    <tr>\n",
       "      <th>2</th>\n",
       "      <td>0.458967</td>\n",
       "      <td>0.460366</td>\n",
       "      <td>0.459665</td>\n",
       "      <td>328.000000</td>\n",
       "    </tr>\n",
       "    <tr>\n",
       "      <th>3</th>\n",
       "      <td>0.569905</td>\n",
       "      <td>0.530905</td>\n",
       "      <td>0.549714</td>\n",
       "      <td>906.000000</td>\n",
       "    </tr>\n",
       "    <tr>\n",
       "      <th>4</th>\n",
       "      <td>0.781792</td>\n",
       "      <td>0.796760</td>\n",
       "      <td>0.789205</td>\n",
       "      <td>1358.000000</td>\n",
       "    </tr>\n",
       "    <tr>\n",
       "      <th>accuracy</th>\n",
       "      <td>0.651269</td>\n",
       "      <td>0.651269</td>\n",
       "      <td>0.651269</td>\n",
       "      <td>0.651269</td>\n",
       "    </tr>\n",
       "    <tr>\n",
       "      <th>macro avg</th>\n",
       "      <td>0.588228</td>\n",
       "      <td>0.603204</td>\n",
       "      <td>0.595065</td>\n",
       "      <td>3074.000000</td>\n",
       "    </tr>\n",
       "    <tr>\n",
       "      <th>weighted avg</th>\n",
       "      <td>0.648966</td>\n",
       "      <td>0.651269</td>\n",
       "      <td>0.649708</td>\n",
       "      <td>3074.000000</td>\n",
       "    </tr>\n",
       "  </tbody>\n",
       "</table>\n",
       "</div>"
      ],
      "text/plain": [
       "              precision    recall  f1-score      support\n",
       "0              0.673640  0.755869  0.712389   213.000000\n",
       "1              0.456835  0.472119  0.464351   269.000000\n",
       "2              0.458967  0.460366  0.459665   328.000000\n",
       "3              0.569905  0.530905  0.549714   906.000000\n",
       "4              0.781792  0.796760  0.789205  1358.000000\n",
       "accuracy       0.651269  0.651269  0.651269     0.651269\n",
       "macro avg      0.588228  0.603204  0.595065  3074.000000\n",
       "weighted avg   0.648966  0.651269  0.649708  3074.000000"
      ]
     },
     "execution_count": 38,
     "metadata": {},
     "output_type": "execute_result"
    }
   ],
   "source": [
    "get_classification_report(review_df['Rating'].values, review_df['prediction'].values)"
   ]
  }
 ],
 "metadata": {
  "kernelspec": {
   "display_name": "Python 3 (ipykernel)",
   "language": "python",
   "name": "python3"
  },
  "language_info": {
   "codemirror_mode": {
    "name": "ipython",
    "version": 3
   },
   "file_extension": ".py",
   "mimetype": "text/x-python",
   "name": "python",
   "nbconvert_exporter": "python",
   "pygments_lexer": "ipython3",
   "version": "3.9.12"
  }
 },
 "nbformat": 4,
 "nbformat_minor": 5
}
