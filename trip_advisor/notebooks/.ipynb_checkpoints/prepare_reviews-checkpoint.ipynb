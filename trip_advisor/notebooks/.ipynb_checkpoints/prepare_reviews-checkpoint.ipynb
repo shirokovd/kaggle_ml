{
 "cells": [
  {
   "cell_type": "code",
   "execution_count": 1,
   "id": "6e5cef12",
   "metadata": {},
   "outputs": [],
   "source": [
    "import os\n",
    "import re\n",
    "from collections import Counter\n",
    "\n",
    "import numpy as np\n",
    "import pandas as pd\n",
    "from matplotlib import pyplot as plt\n",
    "import nltk\n",
    "from nltk.corpus import stopwords\n",
    "from nltk.stem import WordNetLemmatizer\n",
    "from nltk import ngrams"
   ]
  },
  {
   "cell_type": "code",
   "execution_count": 2,
   "id": "8a85dce1",
   "metadata": {},
   "outputs": [
    {
     "name": "stderr",
     "output_type": "stream",
     "text": [
      "[nltk_data] Error loading stopwords: <urlopen error [Errno 11001]\n",
      "[nltk_data]     getaddrinfo failed>\n",
      "[nltk_data] Error loading averaged_perceptron_tagger: <urlopen error\n",
      "[nltk_data]     [Errno 11001] getaddrinfo failed>\n",
      "[nltk_data] Error loading wordnet: <urlopen error [Errno 11001]\n",
      "[nltk_data]     getaddrinfo failed>\n"
     ]
    },
    {
     "data": {
      "text/plain": [
       "False"
      ]
     },
     "execution_count": 2,
     "metadata": {},
     "output_type": "execute_result"
    }
   ],
   "source": [
    "nltk.download('stopwords')\n",
    "# pos_tag\n",
    "nltk.download('averaged_perceptron_tagger')\n",
    "# WordNetLemmatizer\n",
    "nltk.download('wordnet')"
   ]
  },
  {
   "cell_type": "code",
   "execution_count": 3,
   "id": "1227cf4b",
   "metadata": {},
   "outputs": [
    {
     "data": {
      "text/plain": [
       "159"
      ]
     },
     "execution_count": 3,
     "metadata": {},
     "output_type": "execute_result"
    }
   ],
   "source": [
    "stopwords_nltk = list(stopwords.words('english'))\n",
    "stopwords_nltk = [w for w in stopwords_nltk if \"n't\" not in w and w not in ['no', 'not']]\n",
    "len(stopwords_nltk)"
   ]
  },
  {
   "cell_type": "markdown",
   "id": "89efd6dc",
   "metadata": {},
   "source": [
    "# Source data"
   ]
  },
  {
   "cell_type": "code",
   "execution_count": 6,
   "id": "d6cae1f2",
   "metadata": {},
   "outputs": [],
   "source": [
    "review_file = '../data/init/tripadvisor_hotel_reviews.csv'"
   ]
  },
  {
   "cell_type": "code",
   "execution_count": 7,
   "id": "e51060f9",
   "metadata": {
    "scrolled": true
   },
   "outputs": [
    {
     "data": {
      "text/plain": [
       "(20491, 2)"
      ]
     },
     "execution_count": 7,
     "metadata": {},
     "output_type": "execute_result"
    }
   ],
   "source": [
    "review_df = pd.read_csv(review_file, sep=',')\n",
    "review_df.shape"
   ]
  },
  {
   "cell_type": "code",
   "execution_count": 6,
   "id": "8b06cc66",
   "metadata": {},
   "outputs": [
    {
     "data": {
      "text/html": [
       "<div>\n",
       "<style scoped>\n",
       "    .dataframe tbody tr th:only-of-type {\n",
       "        vertical-align: middle;\n",
       "    }\n",
       "\n",
       "    .dataframe tbody tr th {\n",
       "        vertical-align: top;\n",
       "    }\n",
       "\n",
       "    .dataframe thead th {\n",
       "        text-align: right;\n",
       "    }\n",
       "</style>\n",
       "<table border=\"1\" class=\"dataframe\">\n",
       "  <thead>\n",
       "    <tr style=\"text-align: right;\">\n",
       "      <th></th>\n",
       "      <th>Review</th>\n",
       "      <th>Rating</th>\n",
       "    </tr>\n",
       "  </thead>\n",
       "  <tbody>\n",
       "    <tr>\n",
       "      <th>0</th>\n",
       "      <td>nice hotel expensive parking got good deal sta...</td>\n",
       "      <td>4</td>\n",
       "    </tr>\n",
       "    <tr>\n",
       "      <th>1</th>\n",
       "      <td>ok nothing special charge diamond member hilto...</td>\n",
       "      <td>2</td>\n",
       "    </tr>\n",
       "    <tr>\n",
       "      <th>2</th>\n",
       "      <td>nice rooms not 4* experience hotel monaco seat...</td>\n",
       "      <td>3</td>\n",
       "    </tr>\n",
       "    <tr>\n",
       "      <th>3</th>\n",
       "      <td>unique, great stay, wonderful time hotel monac...</td>\n",
       "      <td>5</td>\n",
       "    </tr>\n",
       "    <tr>\n",
       "      <th>4</th>\n",
       "      <td>great stay great stay, went seahawk game aweso...</td>\n",
       "      <td>5</td>\n",
       "    </tr>\n",
       "  </tbody>\n",
       "</table>\n",
       "</div>"
      ],
      "text/plain": [
       "                                              Review  Rating\n",
       "0  nice hotel expensive parking got good deal sta...       4\n",
       "1  ok nothing special charge diamond member hilto...       2\n",
       "2  nice rooms not 4* experience hotel monaco seat...       3\n",
       "3  unique, great stay, wonderful time hotel monac...       5\n",
       "4  great stay great stay, went seahawk game aweso...       5"
      ]
     },
     "execution_count": 6,
     "metadata": {},
     "output_type": "execute_result"
    }
   ],
   "source": [
    "review_df.head()"
   ]
  },
  {
   "cell_type": "code",
   "execution_count": 7,
   "id": "c249964c",
   "metadata": {
    "collapsed": true
   },
   "outputs": [
    {
     "name": "stdout",
     "output_type": "stream",
     "text": [
      "<class 'pandas.core.frame.DataFrame'>\n",
      "RangeIndex: 20491 entries, 0 to 20490\n",
      "Data columns (total 2 columns):\n",
      " #   Column  Non-Null Count  Dtype \n",
      "---  ------  --------------  ----- \n",
      " 0   Review  20491 non-null  object\n",
      " 1   Rating  20491 non-null  int64 \n",
      "dtypes: int64(1), object(1)\n",
      "memory usage: 320.3+ KB\n"
     ]
    }
   ],
   "source": [
    "review_df.info()"
   ]
  },
  {
   "cell_type": "code",
   "execution_count": 8,
   "id": "27ba8364",
   "metadata": {},
   "outputs": [
    {
     "data": {
      "text/plain": [
       "<AxesSubplot:>"
      ]
     },
     "execution_count": 8,
     "metadata": {},
     "output_type": "execute_result"
    },
    {
     "data": {
      "image/png": "[encoded data removed]",
      "text/plain": [
       "<Figure size 432x288 with 1 Axes>"
      ]
     },
     "metadata": {
      "needs_background": "light"
     },
     "output_type": "display_data"
    }
   ],
   "source": [
    "review_df['Rating'].value_counts().sort_values().plot.bar()"
   ]
  },
  {
   "cell_type": "markdown",
   "id": "4a51eb46",
   "metadata": {},
   "source": [
    "# Data preparation"
   ]
  },
  {
   "cell_type": "code",
   "execution_count": 193,
   "id": "017a929f",
   "metadata": {},
   "outputs": [],
   "source": [
    "def prepare_text(text):\n",
    "    words = text.split(' ')\n",
    "    words = [w.lower() for w in words if w not in stopwords_nltk]\n",
    "    words = [re.sub(r'[!@#$%^&№()_=*/+-.,<>:;\"\\'`~\\[(\\]{}|\\\\]', '', w) for w in words]\n",
    "    return ' '.join([w for w in words if w !=''])"
   ]
  },
  {
   "cell_type": "code",
   "execution_count": 57,
   "id": "6d06525b",
   "metadata": {},
   "outputs": [],
   "source": [
    "pos_tags = {\n",
    "    'NN': 'n',\n",
    "    'VB': 'v',\n",
    "    'JJ': 'a',\n",
    "    'RB': 'r'   \n",
    "}"
   ]
  },
  {
   "cell_type": "code",
   "execution_count": 59,
   "id": "7e8917bb",
   "metadata": {},
   "outputs": [],
   "source": [
    "nltk_lemma_tag = lambda pos: pos_tags.get(pos[:2], 'n')\n",
    "\n",
    "def lemmatize_text(text):\n",
    "    lemmatizer = WordNetLemmatizer()\n",
    "    words = text.split(' ')\n",
    "    words_poses = nltk.pos_tag(words)\n",
    "    words = [lemmatizer.lemmatize(w, pos=nltk_lemma_tag(pos)) for (w, pos) in words_poses]\n",
    "    return ' '.join(words)"
   ]
  },
  {
   "cell_type": "code",
   "execution_count": 197,
   "id": "a0ade110",
   "metadata": {},
   "outputs": [
    {
     "data": {
      "text/html": [
       "<div>\n",
       "<style scoped>\n",
       "    .dataframe tbody tr th:only-of-type {\n",
       "        vertical-align: middle;\n",
       "    }\n",
       "\n",
       "    .dataframe tbody tr th {\n",
       "        vertical-align: top;\n",
       "    }\n",
       "\n",
       "    .dataframe thead th {\n",
       "        text-align: right;\n",
       "    }\n",
       "</style>\n",
       "<table border=\"1\" class=\"dataframe\">\n",
       "  <thead>\n",
       "    <tr style=\"text-align: right;\">\n",
       "      <th></th>\n",
       "      <th>Review</th>\n",
       "      <th>Rating</th>\n",
       "    </tr>\n",
       "  </thead>\n",
       "  <tbody>\n",
       "    <tr>\n",
       "      <th>0</th>\n",
       "      <td>nice hotel expensive parking get good deal sta...</td>\n",
       "      <td>4</td>\n",
       "    </tr>\n",
       "    <tr>\n",
       "      <th>1</th>\n",
       "      <td>ok nothing special charge diamond member hilto...</td>\n",
       "      <td>2</td>\n",
       "    </tr>\n",
       "    <tr>\n",
       "      <th>2</th>\n",
       "      <td>nice room 4 experience hotel monaco seattle go...</td>\n",
       "      <td>3</td>\n",
       "    </tr>\n",
       "    <tr>\n",
       "      <th>3</th>\n",
       "      <td>unique great stay wonderful time hotel monaco ...</td>\n",
       "      <td>5</td>\n",
       "    </tr>\n",
       "    <tr>\n",
       "      <th>4</th>\n",
       "      <td>great stay great stay go seahawk game awesome ...</td>\n",
       "      <td>5</td>\n",
       "    </tr>\n",
       "  </tbody>\n",
       "</table>\n",
       "</div>"
      ],
      "text/plain": [
       "                                              Review  Rating\n",
       "0  nice hotel expensive parking get good deal sta...       4\n",
       "1  ok nothing special charge diamond member hilto...       2\n",
       "2  nice room 4 experience hotel monaco seattle go...       3\n",
       "3  unique great stay wonderful time hotel monaco ...       5\n",
       "4  great stay great stay go seahawk game awesome ...       5"
      ]
     },
     "execution_count": 197,
     "metadata": {},
     "output_type": "execute_result"
    }
   ],
   "source": [
    "review_df[\"Review\"] = review_df[\"Review\"].apply(lambda text: prepare_text(text))\n",
    "review_df[\"Review\"] = review_df[\"Review\"].apply(lambda text: lemmatize_text(text))\n",
    "review_df.head()"
   ]
  },
  {
   "cell_type": "code",
   "execution_count": 198,
   "id": "77d30f13",
   "metadata": {},
   "outputs": [
    {
     "data": {
      "text/plain": [
       "'./data/tripadvisor_hotel_reviews_prep.csv'"
      ]
     },
     "execution_count": 198,
     "metadata": {},
     "output_type": "execute_result"
    }
   ],
   "source": [
    "name, ext = os.path.splitext(review_file)\n",
    "review_prepared_file = '{}_prep{}'.format(name, ext)\n",
    "review_prepared_file"
   ]
  },
  {
   "cell_type": "code",
   "execution_count": 199,
   "id": "b0c204c0",
   "metadata": {},
   "outputs": [],
   "source": [
    "review_df.to_csv(review_prepared_file, sep=',', index=False)"
   ]
  },
  {
   "cell_type": "markdown",
   "id": "407f87ce",
   "metadata": {},
   "source": [
    "### N-grams"
   ]
  },
  {
   "cell_type": "code",
   "execution_count": 273,
   "id": "2f8737b9",
   "metadata": {},
   "outputs": [],
   "source": [
    "n = 2"
   ]
  },
  {
   "cell_type": "code",
   "execution_count": 274,
   "id": "c233b1de",
   "metadata": {},
   "outputs": [
    {
     "data": {
      "text/plain": [
       "20491"
      ]
     },
     "execution_count": 274,
     "metadata": {},
     "output_type": "execute_result"
    }
   ],
   "source": [
    "ngrams_review_list = [ngrams(text.split(' '), n) for text in review_df[\"Review\"]]\n",
    "len(ngrams_review_list)"
   ]
  },
  {
   "cell_type": "code",
   "execution_count": 275,
   "id": "c6096530",
   "metadata": {
    "scrolled": true
   },
   "outputs": [
    {
     "data": {
      "text/plain": [
       "2045044"
      ]
     },
     "execution_count": 275,
     "metadata": {},
     "output_type": "execute_result"
    }
   ],
   "source": [
    "ngrams_list = [ngram for ngrams in ngrams_review_list for ngram in ngrams]\n",
    "len(ngrams_list)"
   ]
  },
  {
   "cell_type": "code",
   "execution_count": 276,
   "id": "da9e6301",
   "metadata": {},
   "outputs": [
    {
     "data": {
      "text/plain": [
       "894505"
      ]
     },
     "execution_count": 276,
     "metadata": {},
     "output_type": "execute_result"
    }
   ],
   "source": [
    "ngrams_counter = np.array(Counter(ngrams_list).most_common())\n",
    "len(ngrams_counter)"
   ]
  },
  {
   "cell_type": "code",
   "execution_count": 277,
   "id": "8698c272",
   "metadata": {
    "scrolled": true
   },
   "outputs": [
    {
     "data": {
      "text/plain": [
       "<BarContainer object of 10 artists>"
      ]
     },
     "execution_count": 277,
     "metadata": {},
     "output_type": "execute_result"
    },
    {
     "data": {
      "image/png": "[encoded data removed]",
      "text/plain": [
       "<Figure size 432x288 with 1 Axes>"
      ]
     },
     "metadata": {
      "needs_background": "light"
     },
     "output_type": "display_data"
    }
   ],
   "source": [
    "k = 10\n",
    "plt.barh([' '.join(ws) for ws in ngrams_counter[:k, 0]], ngrams_counter[:k, 1])"
   ]
  }
 ],
 "metadata": {
  "kernelspec": {
   "display_name": "Python 3 (ipykernel)",
   "language": "python",
   "name": "python3"
  },
  "language_info": {
   "codemirror_mode": {
    "name": "ipython",
    "version": 3
   },
   "file_extension": ".py",
   "mimetype": "text/x-python",
   "name": "python",
   "nbconvert_exporter": "python",
   "pygments_lexer": "ipython3",
   "version": "3.9.12"
  }
 },
 "nbformat": 4,
 "nbformat_minor": 5
}
